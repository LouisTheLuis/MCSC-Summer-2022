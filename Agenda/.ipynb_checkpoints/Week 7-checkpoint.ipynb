{
 "cells": [
  {
   "cell_type": "markdown",
   "id": "2c8b217b",
   "metadata": {},
   "source": [
    "# Week 7"
   ]
  },
  {
   "cell_type": "markdown",
   "id": "c59bd3ad",
   "metadata": {},
   "source": [
    "## Objectives so far\n",
    "* Code a graph generator for Unity\n",
    "* Code force fields in Unity\n",
    "* Code Lennard-Jones forces for polymer chain entanglement\n",
    "* Code Brownian motion of polymer chains"
   ]
  },
  {
   "cell_type": "markdown",
   "id": "f75e83c2",
   "metadata": {},
   "source": [
    "## July 25"
   ]
  },
  {
   "cell_type": "markdown",
   "id": "07450c6c",
   "metadata": {},
   "source": [
    "## July 26"
   ]
  },
  {
   "cell_type": "markdown",
   "id": "9be4cd6f",
   "metadata": {},
   "source": [
    "## July27"
   ]
  }
 ],
 "metadata": {
  "kernelspec": {
   "display_name": "Python 3 (ipykernel)",
   "language": "python",
   "name": "python3"
  },
  "language_info": {
   "codemirror_mode": {
    "name": "ipython",
    "version": 3
   },
   "file_extension": ".py",
   "mimetype": "text/x-python",
   "name": "python",
   "nbconvert_exporter": "python",
   "pygments_lexer": "ipython3",
   "version": "3.9.12"
  }
 },
 "nbformat": 4,
 "nbformat_minor": 5
}
