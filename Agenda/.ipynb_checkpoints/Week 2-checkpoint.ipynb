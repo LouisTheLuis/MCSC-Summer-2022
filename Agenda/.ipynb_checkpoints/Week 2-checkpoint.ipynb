{
 "cells": [
  {
   "cell_type": "markdown",
   "id": "e42ef285",
   "metadata": {},
   "source": [
    "# Week 2"
   ]
  },
  {
   "cell_type": "markdown",
   "id": "930d9d2b",
   "metadata": {},
   "source": [
    "<div class=\"alert alert-block alert-danger\">\n",
    "<b>Note:</b> During the process of pushing all these Jupyter notebooks to a remote repository, the previous notes were lost (oops). Unfortunately this meant the loss of multiple summaries of PDFs and detailed notes of previous meetings. This week thus, contains <i>very</i> limited information. I apologize (to myself) for not being careful with Git. Hopefully one day I will rewrite these summaries if they are really that important.\n",
    "</div>"
   ]
  },
  {
   "cell_type": "markdown",
   "id": "06d37de5",
   "metadata": {},
   "source": [
    "## Objectives so far\n",
    "* Read more about Pyomo and other tools that might work for multi-objective optimization in Python\n",
    "* Read and summarize multiple multi-objective optimization papers for Paloma\n",
    "* Read about RdKit and Geomol\n",
    "* ~~Make a presentation for Multio-Objective Optimization paper~~\n",
    "* ~~Prepare 2 architectures (one low-data and one large-data and present them in June 27)~~\n",
    "* ~~Read the papers about Deep RL and Geomol~~"
   ]
  },
  {
   "cell_type": "markdown",
   "id": "73b80775",
   "metadata": {},
   "source": [
    "## June 21\n",
    "\n",
    ">**Title:** Multi-Objective Optimization in Material Design and Selection\n",
    ">\n",
    ">**Author(s):** M. F. Ashby\n",
    ">\n",
    ">**Link:** [PDF Article](https://nbviewer.org/github/LouisTheLuis/MCSC-Summer-2022/blob/master/Summaries/Multi-objective_Optimization_in_Material_Design_and_Selection.pdf)\n",
    ">\n",
    ">**Important Points:**\n",
    ">All of the important points from this particular paper were summarized in some slides I made for a previous presentation. The slides are [here](https://docs.google.com/presentation/d/1EPkUF8eRrBFmy5ddUy63l5iLEuoIS8XFNvUa3Nl9Uf4/edit?usp=sharing).\n",
    "\n",
    ">**Title:** Distributed Multi-Objective Bayesian Optimization for the Intelligent Navigation of Energy Structure Function Maps For Efficient Property Discovery\n",
    ">\n",
    ">**Author(s):** Edward O. Pyzer-Knapp, Linjiang Chen, Graeme M. Day, Andrew I. Cooper\n",
    ">\n",
    ">**Link:** [PDF Article](https://nbviewer.org/github/LouisTheLuis/MCSC-Summer-2022/blob/master/Summaries/Distributed_multi-objective_Bayesian_Optimization_for_the_intelligent_navigation_of_energy_structure_function_maps_for_efficient_property_discovery.pdf)\n",
    ">\n",
    ">**Important Points:**\n",
    ">* Unfortunately, the more detailed important points of this paper were lost. Thus, the summary below is extremely brief.\n",
    ">* The paper mostly concerned itself with the design of crystals with very specific characteristics; something that can be optimized through the use of ESF maps.\n",
    ">* In order to do this, they used a technique called *Bayesian Optimization*; more specifically, they used PDTS (Parallel and Distributed Thompson Sampling), a technique that combines bayesian optimization with the use of Thompson sampling. \n",
    ">* The multi-objective optimization plays its part when running multiple PDTS samplers in parallel and adding the acquisition functions together —doing something similar to a value function— and optimizing for the best result.\n",
    ">* The study focused on the insights given by three systems: T2, T2E, and P2.\n",
    ">* The results were succesful; resulting in a decrease in computation time while some decent accuracy on the results.\n",
    "\n",
    ">**Title:** Multi-objective optimization of simultaneous saccharification and fermentation of cellulosic ethanol production\n",
    ">\n",
    ">**Author(s):** Jalil Shadbahr, Yan Zhang, Faisal Khan, Kelly Hawboldt\n",
    ">\n",
    ">**Link:** [PDF Article](https://nbviewer.org/github/LouisTheLuis/MCSC-Summer-2022/blob/master/Summaries/Multi-objective_optimization_of_simultaneous_saccharification_and_fermentation_for_cellulosic_ethanol_production.pdf)\n",
    ">\n",
    ">**Important Points:**\n",
    ">* To be written\n",
    "\n",
    "### Meeting (6/21/2022)\n",
    "During this meeting two people presented about the literature that they read. They were Elena Garza and Jehan Ahmed —both presenting about QSPR methods and other chemical interesting subjects— and Andrew Emmel, who presented on the Random Forest paper. Unfortunately, the slides are not available and the minutes over the presentation were lost."
   ]
  },
  {
   "cell_type": "markdown",
   "id": "50f4277e",
   "metadata": {},
   "source": [
    "## June 22\n",
    "After the meeting on Monday the three of us were assigned to read the papers about Reinforcement Learning for molecular generation and the Geomol paper. They are both summarized below.\n",
    "\n",
    ">**Title:** Molecular Design in Synthetically Accessible Chemical Space via Deep Reinforcement Learning\n",
    ">\n",
    ">**Author(s):** Julien Horwood, Emmanual Noutahi\n",
    ">\n",
    ">**Link:** [PDF Article](https://nbviewer.org/github/LouisTheLuis/MCSC-Summer-2022/blob/master/Summaries/Molecular_Design_in_Synthetically_Accessible_Chemical_Space_via_Deep_Reinforcement_Learning.pdf)\n",
    ">\n",
    ">**Important Points:**\n",
    ">* Unfortunately, the more detailed important points of this paper were lost. Thus, the summary below is extremely brief.\n",
    ">* \n",
    "\n",
    ">**Title:** GEOMOL: Torsional Geometric Generation of Molecular 3D Conformer Ensembles\n",
    ">\n",
    ">**Author(s):** Octavian-Eugen Ganea, Lagnajit Pattanaik, Connor W. Coley, Regina Barzilay, Klavs F. Jensen, William H. Green, Tommi S. Jaakkola\n",
    ">\n",
    ">**Link:** [PDF Article](https://nbviewer.org/github/LouisTheLuis/MCSC-Summer-2022/blob/master/Summaries/GeoMol_Torsional_Geometric_Generation_of_Molecular_3D_Conformer_Ensembles.pdf)\n",
    ">\n",
    ">**Important Points:**\n",
    ">* To be written."
   ]
  },
  {
   "cell_type": "markdown",
   "id": "375548ed",
   "metadata": {},
   "source": [
    "## June 23\n",
    "\n",
    "### Meeting (6/23/2022 - 11:00am)\n",
    "During this meeting we discussed multiple of the shortcomings in order for the construction of an architecture that might allow us to reach the goals that we want.\n",
    "In particular, the problems we came across can be summarized below:\n",
    "* First of all, there is a large limitation to the extent to which we can predict the properties of the molecules. We do not have any particularly extensive QSPR methods from which we can derive some functional results. Molecular dynamics are still a very large limitation on what we want to obtain.\n",
    "* There was a brief mention of using molecular bonds as a feature representation. This might be useful for molecular dynamics but the extent to which it is is very unknown.\n",
    "* Polymers fold the more monomers are added to them. How do we make our ML model account for this in order to obtain a computationally feasible model that also takes into account molecular dynamics in a feasible way?"
   ]
  },
  {
   "cell_type": "markdown",
   "id": "7a947e50",
   "metadata": {},
   "source": [
    "## June 24\n",
    "This day I came across one interesting paper regarding a generative model that could produce molecules using a bag of atoms and step-by-step add them to a single molecule.\n",
    "\n",
    ">**Title:** Reinforcement Learning for Molecular Design Guided by Quantum Mechanics\n",
    ">\n",
    ">**Author(s):** Gregor N. C. Simm, Robert Pinsler, José Miguel Hernández-Lobato\n",
    ">\n",
    ">**Link:** [PDF Article](https://nbviewer.org/github/LouisTheLuis/MCSC-Summer-2022/blob/master/Summaries/Reinforcement_Learning_for_Molecular_Design_Guided_By_Quantum_Mechanics.pdf)\n",
    ">\n",
    ">**Important Points:**\n",
    ">* To be written "
   ]
  }
 ],
 "metadata": {
  "kernelspec": {
   "display_name": "Python 3 (ipykernel)",
   "language": "python",
   "name": "python3"
  },
  "language_info": {
   "codemirror_mode": {
    "name": "ipython",
    "version": 3
   },
   "file_extension": ".py",
   "mimetype": "text/x-python",
   "name": "python",
   "nbconvert_exporter": "python",
   "pygments_lexer": "ipython3",
   "version": "3.9.12"
  }
 },
 "nbformat": 4,
 "nbformat_minor": 5
}
