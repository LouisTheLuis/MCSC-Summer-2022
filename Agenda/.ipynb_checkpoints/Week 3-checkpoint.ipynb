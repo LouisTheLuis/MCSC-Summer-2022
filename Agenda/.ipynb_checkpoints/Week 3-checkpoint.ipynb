{
 "cells": [
  {
   "cell_type": "markdown",
   "id": "681ecdcd",
   "metadata": {},
   "source": [
    "# Week 3"
   ]
  },
  {
   "cell_type": "markdown",
   "id": "049b2a35",
   "metadata": {},
   "source": [
    "## Objectives so far\n",
    "* Read more about Pyomo and other tools that might work for multi-objective optimization in Python\n",
    "* Read and summarize multiple multi-objective optimization papers for Paloma\n",
    "* ~~Prepare 2 architectures (one low-data and one large-data and present them in June 27)~~\n",
    "* Prepare a presentation for literature review in June 30"
   ]
  },
  {
   "cell_type": "markdown",
   "id": "addb9e15",
   "metadata": {},
   "source": [
    "## June 27\n",
    "\n",
    ">**Title:** Data-Driven Methods for Accelerating Polymer Design\n",
    ">\n",
    ">**Author(s):** Tarak K. Patra\n",
    ">\n",
    ">**Link:** [PDF Article](https://nbviewer.org/github/LouisTheLuis/MCSC-Summer-2022/blob/master/Summaries/Data-Driven_Methods_for_Accelerating_Polymer_Design.pdf)\n",
    ">\n",
    ">**Important Points:**\n",
    ">To be written\n",
    "\n",
    "### Meeting (6/27/2022 - 2:00pm)\n",
    "During this meeting we reviewed the architectures proposed by all three of us. The idea was that each one of us would propose two architectures:\n",
    "* One *low-data*/*short-term* architecture which would be used with a small toy data-set, whose purpose would be to test our machine learning approaches to generate new polymers with certain characteristics pertaining to a previously known set of molecules —such as cellulose acetate, for example.\n",
    "* One *big-data*/*long-term* architecture, which would generalize the approach to a large data set with many polymers to choose from.\n",
    "\n",
    "Before going into the details of what each one of us did, it is important to point out the proposed *data set* to use for the upcoming project development. Neil brought up that, as **PolyInfo** will not be available for a while, we will be forced to use **PI1M**, which stands for PolyInfo one million. The information regarding this particular data set is very flimsy; it does in one hand contain more than 1 million polymers. In the other hand:\n",
    "* The data contained in this database might not be trusted due to their methodology not being particularly the best.\n",
    "* It is likely that the database does not contain the information that we want. It might however, serve as a useful toy data set.\n",
    "\n",
    "Now, we will look into each other's architectures:\n",
    "\n",
    ">**Author:** Andrew Emmel\n",
    ">\n",
    ">**Architecture Diagram:** [Diagram](https://nbviewer.org/github/LouisTheLuis/MCSC-Summer-2022/blob/master/Proposed%20Architectures/Andy%27s%20Architecture.pdf)\n",
    ">\n",
    ">**Important Points:**\n",
    ">To be written\n",
    "\n",
    ">**Author:** Neil Mahur\n",
    ">\n",
    ">**Architecture Diagram:** [Diagram](https://nbviewer.org/github/LouisTheLuis/MCSC-Summer-2022/blob/master/Proposed%20Architectures/Neil%27s%20Architecture.pdf)\n",
    ">\n",
    ">**Important Points:**\n",
    ">To be written\n",
    "\n",
    ">**Author:** Louis Martinez\n",
    ">\n",
    ">**Architecture Diagram:** [Diagram](https://nbviewer.org/github/LouisTheLuis/MCSC-Summer-2022/blob/master/Proposed%20Architectures/Louis%27%20Proposal.pdf)\n",
    ">\n",
    ">**Important Points:**\n",
    ">To be written"
   ]
  },
  {
   "cell_type": "markdown",
   "id": "85c42d39",
   "metadata": {},
   "source": [
    "## June 28\n",
    "Now, we have been assigned to read more in the literature in order to prepare a presentation this Thursday, June 30 regarding the findings that we may have obtained from looking into the literature.\n",
    "\n",
    ">**Title:** PI1M: A Benchmark Database for Polymer Informatics\n",
    ">\n",
    ">**Author(s):** Ruimin Ma and Tengfei Luo\n",
    ">\n",
    ">**Link:** [PDF Article](https://nbviewer.org/github/LouisTheLuis/MCSC-Summer-2022/blob/master/Summaries/PI1M_A_Benchmark_Database_for_Polymer_Informatics.pdf)\n",
    ">\n",
    ">**Important Points:**\n",
    ">To be written"
   ]
  },
  {
   "cell_type": "markdown",
   "id": "0b08788b",
   "metadata": {},
   "source": [
    "## June 29\n",
    "More literature review. Probably will spend some time making the presentation for tomorrow June 30.\n",
    "\n",
    "Also, Paloma told us to check this website: [The Materials Project](https://materialsproject.org/materials/mp-18957). "
   ]
  }
 ],
 "metadata": {
  "kernelspec": {
   "display_name": "Python 3 (ipykernel)",
   "language": "python",
   "name": "python3"
  },
  "language_info": {
   "codemirror_mode": {
    "name": "ipython",
    "version": 3
   },
   "file_extension": ".py",
   "mimetype": "text/x-python",
   "name": "python",
   "nbconvert_exporter": "python",
   "pygments_lexer": "ipython3",
   "version": "3.9.12"
  }
 },
 "nbformat": 4,
 "nbformat_minor": 5
}
