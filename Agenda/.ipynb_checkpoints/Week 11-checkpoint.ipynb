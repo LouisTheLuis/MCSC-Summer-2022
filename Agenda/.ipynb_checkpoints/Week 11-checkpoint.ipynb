{
 "cells": [
  {
   "cell_type": "markdown",
   "id": "87c5f7fd",
   "metadata": {},
   "source": [
    "# Week 11"
   ]
  },
  {
   "cell_type": "markdown",
   "id": "76876afc",
   "metadata": {},
   "source": [
    "## Objectives so far\n",
    "\n",
    "* Start working on a RL backbone for the bead model\n",
    "* Code a graph generator for Unity\n",
    "* integrate the force fields with the Unity polymer chain "
   ]
  },
  {
   "cell_type": "markdown",
   "id": "5294a565",
   "metadata": {},
   "source": [
    "## August 22\n",
    "\n",
    "Today I finished fixing all the forces to be modular (obtaining the parameters from the Auto_Martini file) and to have them all working on the chain scale (that is, we no longer will have scripts attached to the beads specifically; instead, everything will work at the upper level).\n",
    "\n",
    "Now, we need to finish the RL simulation and adjust the time scale."
   ]
  },
  {
   "cell_type": "markdown",
   "id": "ae66fc7e",
   "metadata": {},
   "source": [
    "## August 23"
   ]
  },
  {
   "cell_type": "markdown",
   "id": "60cd724a",
   "metadata": {},
   "source": [
    "## August 24"
   ]
  },
  {
   "cell_type": "markdown",
   "id": "890e63b9",
   "metadata": {},
   "source": [
    "## August 25"
   ]
  },
  {
   "cell_type": "markdown",
   "id": "85515022",
   "metadata": {},
   "source": [
    "## August 26"
   ]
  },
  {
   "cell_type": "markdown",
   "id": "f14653b6",
   "metadata": {},
   "source": [
    "  "
   ]
  }
 ],
 "metadata": {
  "kernelspec": {
   "display_name": "Python 3 (ipykernel)",
   "language": "python",
   "name": "python3"
  },
  "language_info": {
   "codemirror_mode": {
    "name": "ipython",
    "version": 3
   },
   "file_extension": ".py",
   "mimetype": "text/x-python",
   "name": "python",
   "nbconvert_exporter": "python",
   "pygments_lexer": "ipython3",
   "version": "3.9.12"
  }
 },
 "nbformat": 4,
 "nbformat_minor": 5
}
