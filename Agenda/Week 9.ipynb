{
 "cells": [
  {
   "cell_type": "markdown",
   "id": "0f057980",
   "metadata": {},
   "source": [
    "# Week 9"
   ]
  },
  {
   "cell_type": "markdown",
   "id": "3ec550e0",
   "metadata": {},
   "source": [
    "## Objectives so far\n",
    "* Code a graph generator for Unity\n",
    "* Code force fields in Unity\n",
    "* Code Lennard-Jones forces for polymer chain entanglement\n",
    "* Start working on a RL backbone for the bead model"
   ]
  },
  {
   "cell_type": "markdown",
   "id": "47a4fbc0",
   "metadata": {},
   "source": [
    "## August 8"
   ]
  },
  {
   "cell_type": "markdown",
   "id": "5ffde91e",
   "metadata": {},
   "source": [
    "## August 9"
   ]
  },
  {
   "cell_type": "markdown",
   "id": "92cb8706",
   "metadata": {},
   "source": [
    "## August 10"
   ]
  },
  {
   "cell_type": "markdown",
   "id": "e195ddba",
   "metadata": {},
   "source": [
    "## August 11"
   ]
  },
  {
   "cell_type": "markdown",
   "id": "383e73ea",
   "metadata": {},
   "source": [
    "## August 12"
   ]
  },
  {
   "cell_type": "markdown",
   "id": "9dbe6828",
   "metadata": {},
   "source": [
    "     "
   ]
  }
 ],
 "metadata": {
  "kernelspec": {
   "display_name": "Python 3 (ipykernel)",
   "language": "python",
   "name": "python3"
  },
  "language_info": {
   "codemirror_mode": {
    "name": "ipython",
    "version": 3
   },
   "file_extension": ".py",
   "mimetype": "text/x-python",
   "name": "python",
   "nbconvert_exporter": "python",
   "pygments_lexer": "ipython3",
   "version": "3.9.12"
  }
 },
 "nbformat": 4,
 "nbformat_minor": 5
}
