{
 "cells": [
  {
   "cell_type": "markdown",
   "id": "ea9e3221",
   "metadata": {},
   "source": [
    "# Week 10"
   ]
  },
  {
   "cell_type": "markdown",
   "id": "0ff460f3",
   "metadata": {},
   "source": [
    "## Objectives so far\n",
    "\n",
    "* Start working on a RL backbone for the bead model\n",
    "* Code a graph generator for Unity\n",
    "* integrate the force fields with the Unity polymer chain "
   ]
  },
  {
   "cell_type": "markdown",
   "id": "c4044e70",
   "metadata": {},
   "source": [
    "## August 16\n",
    "\n",
    "Today I have two large objectives and a tentative one:\n",
    "* **1.** Write the description of the MARTINI model in the Google Doc and send it to Paloma.\n",
    "* **2.** Check if it is possible to keep running the simulation with the forces attached. In addition to this, check what is the procedure with the dihedral force.\n",
    "* **3.** Start coding the ML-Agents reinforcement learning architecture."
   ]
  },
  {
   "cell_type": "markdown",
   "id": "8ff9ba1b",
   "metadata": {},
   "source": [
    "## August 17"
   ]
  },
  {
   "cell_type": "markdown",
   "id": "76d08e66",
   "metadata": {},
   "source": [
    "## August 18"
   ]
  },
  {
   "cell_type": "markdown",
   "id": "2e828624",
   "metadata": {},
   "source": [
    "## August 19"
   ]
  },
  {
   "cell_type": "markdown",
   "id": "c8480afe",
   "metadata": {},
   "source": [
    "## August 20"
   ]
  },
  {
   "cell_type": "markdown",
   "id": "23b086c1",
   "metadata": {},
   "source": [
    "  "
   ]
  }
 ],
 "metadata": {
  "kernelspec": {
   "display_name": "Python 3 (ipykernel)",
   "language": "python",
   "name": "python3"
  },
  "language_info": {
   "codemirror_mode": {
    "name": "ipython",
    "version": 3
   },
   "file_extension": ".py",
   "mimetype": "text/x-python",
   "name": "python",
   "nbconvert_exporter": "python",
   "pygments_lexer": "ipython3",
   "version": "3.9.12"
  }
 },
 "nbformat": 4,
 "nbformat_minor": 5
}
