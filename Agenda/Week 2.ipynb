{
 "cells": [
  {
   "cell_type": "markdown",
   "id": "e42ef285",
   "metadata": {},
   "source": [
    "# Week 2"
   ]
  },
  {
   "cell_type": "markdown",
   "id": "06d37de5",
   "metadata": {},
   "source": [
    "## Objectives so far\n",
    "*\n",
    "*\n",
    "*\n",
    "*\n",
    "*"
   ]
  },
  {
   "cell_type": "markdown",
   "id": "73b80775",
   "metadata": {},
   "source": [
    "## June 21"
   ]
  },
  {
   "cell_type": "markdown",
   "id": "50f4277e",
   "metadata": {},
   "source": [
    "## June 22"
   ]
  },
  {
   "cell_type": "markdown",
   "id": "375548ed",
   "metadata": {},
   "source": [
    "## June 23"
   ]
  },
  {
   "cell_type": "markdown",
   "id": "7a947e50",
   "metadata": {},
   "source": [
    "## June 24"
   ]
  }
 ],
 "metadata": {
  "kernelspec": {
   "display_name": "Python 3 (ipykernel)",
   "language": "python",
   "name": "python3"
  },
  "language_info": {
   "codemirror_mode": {
    "name": "ipython",
    "version": 3
   },
   "file_extension": ".py",
   "mimetype": "text/x-python",
   "name": "python",
   "nbconvert_exporter": "python",
   "pygments_lexer": "ipython3",
   "version": "3.9.12"
  }
 },
 "nbformat": 4,
 "nbformat_minor": 5
}
