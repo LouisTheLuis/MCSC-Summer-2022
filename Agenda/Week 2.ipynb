{
 "cells": [
  {
   "cell_type": "markdown",
   "id": "e42ef285",
   "metadata": {},
   "source": [
    "# Week 2"
   ]
  },
  {
   "cell_type": "markdown",
   "id": "ad1e61d8",
   "metadata": {},
   "source": [
    "<div class=\"alert alert-block alert-danger\">\n",
    "<b>Note:</b> During the process of pushing all these Jupyter notebooks to a remote repository, the previous notes were lost (oops). Unfortunately this meant the loss of multiple summaries of PDFs and detailed notes of previous meetings. This week thus, contains <i>very</i> limited information. I apologize (to myself) for not being careful with Git. Hopefully one day I will rewrite these summaries if they are really that important.\n",
    "</div>"
   ]
  },
  {
   "cell_type": "markdown",
   "id": "06d37de5",
   "metadata": {},
   "source": [
    "## Objectives so far\n",
    "* Read more about Pyomo and other tools that might work for multi-objective optimization in Python\n",
    "* Read and summarize multiple multi-objective optimization papers for Paloma\n",
    "* Read about RdKit and Geomol\n",
    "* ~~Prepare 2 architectures (one low-data and one large-data and present them in June 27)~~"
   ]
  },
  {
   "cell_type": "markdown",
   "id": "73b80775",
   "metadata": {},
   "source": [
    "## June 21\n",
    "\n",
    ">**Title:** PI1M: A Benchmark Database for Polymer Informatics\n",
    ">\n",
    ">**Author(s):** Ruimin Ma and Tengfei Luo\n",
    ">\n",
    ">**Link:** [PDF Article](https://nbviewer.org/github/LouisTheLuis/MCSC-Summer-2022/blob/master/Summaries/PI1M_A_Benchmark_Database_for_Polymer_Informatics.pdf)\n",
    ">\n",
    ">**Important Points:**\n",
    ">To be written\n",
    "\n",
    ">**Title:** PI1M: A Benchmark Database for Polymer Informatics\n",
    ">\n",
    ">**Author(s):** Ruimin Ma and Tengfei Luo\n",
    ">\n",
    ">**Link:** [PDF Article](https://nbviewer.org/github/LouisTheLuis/MCSC-Summer-2022/blob/master/Summaries/PI1M_A_Benchmark_Database_for_Polymer_Informatics.pdf)\n",
    ">\n",
    ">**Important Points:**\n",
    ">To be written\n",
    "\n",
    "### Meeting (6/21/2022)\n",
    "During this meeting two people presented about the literature that they read. They were Elena Garza and Jehan Ahmed —both presenting about QSPR methods and other chemical interesting subjects— and Andrew Emmel, who presented on the Random Forest paper. Unfortunately, the slides are not available and the minutes over the presentation were lost."
   ]
  },
  {
   "cell_type": "markdown",
   "id": "50f4277e",
   "metadata": {},
   "source": [
    "## June 22"
   ]
  },
  {
   "cell_type": "markdown",
   "id": "375548ed",
   "metadata": {},
   "source": [
    "## June 23"
   ]
  },
  {
   "cell_type": "markdown",
   "id": "7a947e50",
   "metadata": {},
   "source": [
    "## June 24"
   ]
  }
 ],
 "metadata": {
  "kernelspec": {
   "display_name": "Python 3 (ipykernel)",
   "language": "python",
   "name": "python3"
  },
  "language_info": {
   "codemirror_mode": {
    "name": "ipython",
    "version": 3
   },
   "file_extension": ".py",
   "mimetype": "text/x-python",
   "name": "python",
   "nbconvert_exporter": "python",
   "pygments_lexer": "ipython3",
   "version": "3.9.12"
  }
 },
 "nbformat": 4,
 "nbformat_minor": 5
}
