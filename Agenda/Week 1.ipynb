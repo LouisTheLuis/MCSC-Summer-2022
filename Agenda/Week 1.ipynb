{
 "cells": [
  {
   "cell_type": "markdown",
   "id": "a1a16813",
   "metadata": {},
   "source": [
    "# Week 1"
   ]
  },
  {
   "cell_type": "markdown",
   "id": "bca0f015",
   "metadata": {},
   "source": [
    "<div class=\"alert alert-block alert-danger\">\n",
    "<b>Note:</b> During the process of pushing all these Jupyter notebooks to a remote repository, the previous notes were lost (oops). Unfortunately this meant the loss of multiple summaries of PDFs and detailed notes of previous meetings. This week thus, contains <i>very</i> limited information. I apologize (to myself) for not being careful with Git.\n",
    "</div>"
   ]
  },
  {
   "cell_type": "markdown",
   "id": "cb39aa09",
   "metadata": {},
   "source": [
    "## Objectives so far\n",
    "* Read more about Pyomo and other tools that might work for multi-objective optimization in Python\n",
    "* Read and summarize multiple multi-objective optimization papers for Paloma\n",
    "* Read about RdKit and Geomol\n",
    "* ~~Read the paper about Generative Adversarial Networks and their issues~~"
   ]
  },
  {
   "cell_type": "markdown",
   "id": "6aac62bb",
   "metadata": {},
   "source": [
    "During this week I was only assigned one important paper in particular:\n",
    "\n",
    ">**Title:** The Synthesizability of Molecules Proposed by Generative Models\n",
    ">\n",
    ">**Author(s):** Wenhao Gao and Connor W. Coley\n",
    ">\n",
    ">**Link:** [PDF Article](https://nbviewer.org/github/LouisTheLuis/MCSC-Summer-2022/blob/master/Summaries/PI1M_A_Benchmark_Database_for_Polymer_Informatics.pdf)\n",
    ">\n",
    ">**Important Points:**\n",
    ">To be written"
   ]
  }
 ],
 "metadata": {
  "kernelspec": {
   "display_name": "Python 3 (ipykernel)",
   "language": "python",
   "name": "python3"
  },
  "language_info": {
   "codemirror_mode": {
    "name": "ipython",
    "version": 3
   },
   "file_extension": ".py",
   "mimetype": "text/x-python",
   "name": "python",
   "nbconvert_exporter": "python",
   "pygments_lexer": "ipython3",
   "version": "3.9.12"
  }
 },
 "nbformat": 4,
 "nbformat_minor": 5
}
