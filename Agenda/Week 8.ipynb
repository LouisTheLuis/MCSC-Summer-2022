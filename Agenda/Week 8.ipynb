{
 "cells": [
  {
   "cell_type": "markdown",
   "id": "1b1e3142",
   "metadata": {},
   "source": [
    "# Week 8"
   ]
  },
  {
   "cell_type": "markdown",
   "id": "66e418af",
   "metadata": {},
   "source": [
    "## Objectives so far\n",
    "* Code a graph generator for Unity\n",
    "* Code force fields in Unity\n",
    "* Code Lennard-Jones forces for polymer chain entanglement\n",
    "* Start working on a RL backbone for the bead model"
   ]
  },
  {
   "cell_type": "markdown",
   "id": "07657ccc",
   "metadata": {},
   "source": [
    "## August 1\n",
    "\n",
    "[This is the manual for MARTINI 3](https://static-content.springer.com/esm/art%3A10.1038%2Fs41592-021-01098-3/MediaObjects/41592_2021_1098_MOESM1_ESM.pdf). Apparently, it is likely I have been working with outdated information for the last 2-3 weeks. I can make a quick fix, but for my presentation I have to figure out this."
   ]
  },
  {
   "cell_type": "markdown",
   "id": "45d8f15c",
   "metadata": {},
   "source": [
    "## August 2\n",
    "\n",
    "Work on the presentation again. The link is around [here](https://docs.google.com/presentation/d/1_XaTVGyqJiIbJKm3BrVAgsC0AYDjY71PV2yG8v_J4Ak/edit#slide=id.g1401f25950d_0_232).\n",
    "\n",
    "For the most part, I have tried to figure out the flow of the presentation. Currently, my plan goes as follows:\n",
    "\n",
    "* **1.** Set a technical background dedicated to explain why do we need a model for molecular dynamics, and what is the issue in question that has pushed us to choose coarse-graining.\n",
    "* **2.** Explain the MARTINI model in some amount of detail; this is the feature representation that we are using and the one that is going to go into our program.\n",
    "* **3.** Make a short overview of our implementation, and then, give a relationship between our ML model and the force fields that we chose.\n",
    "\n",
    "It should be fine? The only question in mind right now is whether I use MARTINI 2 or MARTINI 3 for the explanation. Maybe I will settle for a mix of both (non-bonded using MARTINI 3 and bonded using MARTINI 2)."
   ]
  },
  {
   "cell_type": "markdown",
   "id": "8152e89d",
   "metadata": {},
   "source": [
    "## August 3\n",
    "\n",
    "So between yesterday and today I have come across a couple of papers that I might want to read in order to correctly establish the flow of the presentation. As follows, I will include a list of citations with *very* brief points that explain for which reason I chose each paper.\n",
    "\n",
    ">**Title:** Integration of Machine Learning and Coarse-Grained Molecular Simulations for Polymer Materials: Physical Understandings and Molecular Design\n",
    ">\n",
    ">**Author(s):** Danh Nguyen, Lei Tao and Ying Li\n",
    ">\n",
    ">**Link:** [PDF Article](https://pubs.acs.org/doi/pdf/10.1021/ct900313w)\n",
    ">\n",
    ">**Important Points:**\n",
    ">* This article just mostly served to provide me a great overview as to why are we choosing coarse-graining and gives me a possible relationship with machine learning that I can check on later.\n",
    "\n",
    ">**Title:** Modeling and Simulations of Polymers: A Roadmap\n",
    ">\n",
    ">**Author(s):** Thomas E. Gartner III and Arthi Jayaraman\n",
    ">\n",
    ">**Link:** [PDF Article](https://pubs.acs.org/doi/10.1021/acs.macromol.8b01836)\n",
    ">\n",
    ">**Important Points:**\n",
    ">* This review is perfect for me; it gives me a lot of information about all-atom simulations that allows me to assess their pitfalls and some comparisons with coarse-graining models.\n",
    "\n",
    ">**Title:** The MARTINI Force Field:  Coarse Grained Model for Biomolecular Simulations\n",
    ">\n",
    ">**Author(s):** \n",
    ">\n",
    ">**Link:** [PDF Article](https://doi.org/10.1021/jp071097f)\n",
    ">\n",
    ">**Important Points:**\n",
    ">* This is the basic paper that describes the MARTINI model in its second version. All information necessary can be found there.\n",
    "\n",
    ">**Title:** Two Decades of Martini: Better Beads, Broader Scope\n",
    ">\n",
    ">**Author(s):** Siewert J. Marrink, Luca Monticelli, Manuel N. Melo, Riccardo Alessandri, D. Peter Tieleman, Paulo C. T. Souza\n",
    ">\n",
    ">**Link:** [PDF Article](https://doi.org/10.1021/jp071097f)\n",
    ">\n",
    ">**Important Points:**\n",
    ">* Helps A LOT to establish a timeline of changes in the MARTINI model and to even establish a previous purpose of the whole model. Incredibly useful rewview.\n",
    "\n",
    ">**Title:** Martini Straight: Boosting Performance Using a Shorter Cutoff and GPUs\n",
    ">\n",
    ">**Author(s):** Djurre H.de Jong, Svetlana Baoukina, Helgi I. Ingólfsson, Siewert J. Marrink\n",
    ">\n",
    ">**Link:** [PDF Article](https://doi.org/10.1016/j.cpc.2015.09.014)\n",
    ">\n",
    ">**Important Points:**\n",
    ">* I needed this paper to make comparisons between performance in the MARTINI model and other simulations (like all-atom ones).\n",
    "\n",
    ">**Title:** The Martini Coarse-Grained Force Field\n",
    ">\n",
    ">**Author(s):** Xavier Periole & Siewert-Jan Marrink \n",
    ">\n",
    ">**Link:** [PDF Article](https://doi.org/10.1007/978-1-62703-017-5_20)\n",
    ">\n",
    ">**Important Points:**\n",
    ">* Better description of the second version of the MARTINI model than the previous one."
   ]
  },
  {
   "cell_type": "markdown",
   "id": "359bcd51",
   "metadata": {},
   "source": [
    "## August 4"
   ]
  },
  {
   "cell_type": "markdown",
   "id": "5081cb31",
   "metadata": {},
   "source": [
    "## August 5"
   ]
  },
  {
   "cell_type": "markdown",
   "id": "1a5bdb98",
   "metadata": {},
   "source": [
    "   "
   ]
  }
 ],
 "metadata": {
  "kernelspec": {
   "display_name": "Python 3 (ipykernel)",
   "language": "python",
   "name": "python3"
  },
  "language_info": {
   "codemirror_mode": {
    "name": "ipython",
    "version": 3
   },
   "file_extension": ".py",
   "mimetype": "text/x-python",
   "name": "python",
   "nbconvert_exporter": "python",
   "pygments_lexer": "ipython3",
   "version": "3.9.12"
  }
 },
 "nbformat": 4,
 "nbformat_minor": 5
}
