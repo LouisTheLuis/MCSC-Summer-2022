{
 "cells": [
  {
   "cell_type": "markdown",
   "id": "681ecdcd",
   "metadata": {},
   "source": [
    "# Week 3"
   ]
  },
  {
   "cell_type": "markdown",
   "id": "049b2a35",
   "metadata": {},
   "source": [
    "## Objectives so far\n",
    "*\n",
    "*\n",
    "*\n",
    "*"
   ]
  },
  {
   "cell_type": "markdown",
   "id": "addb9e15",
   "metadata": {},
   "source": [
    "## June 27"
   ]
  },
  {
   "cell_type": "markdown",
   "id": "85c42d39",
   "metadata": {},
   "source": [
    "## June 28"
   ]
  },
  {
   "cell_type": "markdown",
   "id": "0b08788b",
   "metadata": {},
   "source": [
    "## June 29"
   ]
  }
 ],
 "metadata": {
  "kernelspec": {
   "display_name": "Python 3 (ipykernel)",
   "language": "python",
   "name": "python3"
  },
  "language_info": {
   "codemirror_mode": {
    "name": "ipython",
    "version": 3
   },
   "file_extension": ".py",
   "mimetype": "text/x-python",
   "name": "python",
   "nbconvert_exporter": "python",
   "pygments_lexer": "ipython3",
   "version": "3.9.12"
  }
 },
 "nbformat": 4,
 "nbformat_minor": 5
}
