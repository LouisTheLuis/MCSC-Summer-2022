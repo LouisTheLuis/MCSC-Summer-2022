{
 "cells": [
  {
   "cell_type": "markdown",
   "id": "221a0730",
   "metadata": {},
   "source": [
    "# Week 5"
   ]
  },
  {
   "cell_type": "markdown",
   "id": "fbc9afe4",
   "metadata": {},
   "source": [
    "## Objectives so far\n",
    "* Code a graph generator for Unity\n",
    "* Code force fields in Unity\n",
    "* Code Leonard-Jones forces for polymer chain entanglement\n",
    "* Code Brownian motion of polymer chains\n",
    "* Research the steps of crystallisation of cellulose acetate or thermoplastic starch\n",
    "* Read and update myself on the literature"
   ]
  },
  {
   "cell_type": "markdown",
   "id": "79d3c68c",
   "metadata": {},
   "source": [
    "## July 11\n",
    "\n",
    "Today I return from New York so I will summarize the papers that I read on the bus and at campus.\n",
    "\n",
    "Last time among the multiple things we were told we could check, we had [this](https://www.youtube.com/watch?v=yofjFQddwHE) video regarding Transfer Learning. I thought it would be interesting to give it a check so I went and watched it while taking notes on it.\n",
    "\n",
    ">**Video:** Transfer Learning (C3W2L07)\n",
    ">\n",
    ">**Important Points:**\n",
    ">* To be written\n",
    "\n",
    "In addition, Paloma sent a paper for ML simulation on coarse grain polymers.\n",
    "\n",
    ">**Title:** Integration of Machine Learning and Coarse-Grained Molecular Simulations for Polymer Materials: Physical Understandings and Molecular Design\n",
    ">\n",
    ">**Author(s):** Dahn Nguyen, Lei Tao, Ying Li\n",
    ">\n",
    ">**Link:** [PDF Article](https://www.ncbi.nlm.nih.gov/pmc/articles/PMC8819075/pdf/fchem-09-820417.pdf)\n",
    ">\n",
    ">**Important Points:**\n",
    ">* *Context:* nothing\n",
    "\n",
    "Elena also provided some notes and information that was useful regarding Force Fields and Thermoplastic Starch, both of which are included as follows:\n",
    "\n",
    ">**Title:** Force Fields\n",
    ">\n",
    ">**Author(s):** Elena\n",
    ">\n",
    ">**Link:** [PDF Article](https://www.ncbi.nlm.nih.gov/pmc/articles/PMC8819075/pdf/fchem-09-820417.pdf)\n",
    "\n",
    ">**Title:** Termoplastic Starch\n",
    ">\n",
    ">**Author(s):** Dahn Nguyen, Lei Tao, Ying Li\n",
    ">\n",
    ">**Link:** [PDF Article](https://www.ncbi.nlm.nih.gov/pmc/articles/PMC8819075/pdf/fchem-09-820417.pdf)\n",
    "\n",
    "Neil also shared some Stanford lectures regarding Neural Network potentials. They are offered [here]()."
   ]
  },
  {
   "cell_type": "markdown",
   "id": "185ce536",
   "metadata": {},
   "source": [
    "## July 12\n",
    "\n",
    "### Meeting for Unity (11:20am - 7/12/2022)\n",
    "\n",
    "For starters, we could just go to the [Unity website](https://unity.com/), download the most recent version of Unity Hub. We start a project (3D).\n",
    "\n",
    "Check ML Agents, and Unity Barracuda. There is a tutorial online for using Unity ML agents [here](https://www.gocoder.one/blog/3d-volleyball-environment-with-unity-ml-agents). We can also use [this](https://learnxinyminutes.com/) for checking C# real quick. Unity itself has tutorials online and in YouTube."
   ]
  },
  {
   "cell_type": "markdown",
   "id": "fe60d1cf",
   "metadata": {},
   "source": [
    "## July 13\n",
    "\n",
    "### Meeting (11:00am - 7/13/2022)\n"
   ]
  }
 ],
 "metadata": {
  "kernelspec": {
   "display_name": "Python 3 (ipykernel)",
   "language": "python",
   "name": "python3"
  },
  "language_info": {
   "codemirror_mode": {
    "name": "ipython",
    "version": 3
   },
   "file_extension": ".py",
   "mimetype": "text/x-python",
   "name": "python",
   "nbconvert_exporter": "python",
   "pygments_lexer": "ipython3",
   "version": "3.9.12"
  }
 },
 "nbformat": 4,
 "nbformat_minor": 5
}
