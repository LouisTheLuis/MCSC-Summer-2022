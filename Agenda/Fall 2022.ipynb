{
 "cells": [
  {
   "cell_type": "markdown",
   "id": "755351f4",
   "metadata": {},
   "source": [
    "# Fall 2022"
   ]
  },
  {
   "cell_type": "markdown",
   "id": "afc70121",
   "metadata": {},
   "source": [
    "## Objectives\n",
    "\n",
    "* **Main goal:** to get the polymer chain to train properly and get results.\n",
    "* Figure out how to move one monomer in simulation randomly (i.e. change positions randomly) in the RL simulation using ML-Agents and Unity"
   ]
  },
  {
   "cell_type": "markdown",
   "id": "0421dcd9",
   "metadata": {},
   "source": [
    "## Week 10/3/2022 - 10/7/2022\n",
    "\n",
    "We agreed on a meeting that we would be having weekly meetings of around 15 minutes every Friday at 3pm or every Monday at 12pm. The first objective of the Fall was decided: to understand how to make actions in ML-Agents and start establishing a strategy for calculating radius of gyration."
   ]
  },
  {
   "cell_type": "markdown",
   "id": "ea676301",
   "metadata": {},
   "source": []
  }
 ],
 "metadata": {
  "kernelspec": {
   "display_name": "Python 3 (ipykernel)",
   "language": "python",
   "name": "python3"
  },
  "language_info": {
   "codemirror_mode": {
    "name": "ipython",
    "version": 3
   },
   "file_extension": ".py",
   "mimetype": "text/x-python",
   "name": "python",
   "nbconvert_exporter": "python",
   "pygments_lexer": "ipython3",
   "version": "3.9.12"
  }
 },
 "nbformat": 4,
 "nbformat_minor": 5
}
