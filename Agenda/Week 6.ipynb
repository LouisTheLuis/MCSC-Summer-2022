{
 "cells": [
  {
   "cell_type": "markdown",
   "id": "25f64172",
   "metadata": {},
   "source": [
    "# Week 6"
   ]
  },
  {
   "cell_type": "markdown",
   "id": "bdc1212b",
   "metadata": {},
   "source": [
    "## Objectives so far\n",
    "* Code a graph generator for Unity\n",
    "* Code force fields in Unity\n",
    "* Code Lennard-Jones forces for polymer chain entanglement\n",
    "* Code Brownian motion of polymer chains\n",
    "* Research the steps of crystallisation of cellulose acetate or thermoplastic starch\n",
    "* Read and update myself on the literature"
   ]
  },
  {
   "cell_type": "markdown",
   "id": "b25228a2",
   "metadata": {},
   "source": [
    "## July 18\n",
    "\n",
    ">**Title:** Machine Learning Force Fields: Recent Advances and Remaining Challenges\n",
    ">\n",
    ">**Author(s):** Igor Poltavsky and Alexandre Tkatchenko\n",
    ">\n",
    ">**Link:** [PDF Article](https://pubs.acs.org/doi/pdf/10.1021/acs.jpclett.1c01204)\n",
    ">\n",
    ">**Important Points:**\n",
    ">* ML models have long demonstrated increased data efficiency when compared to collecting data sets through experimental methods.\n",
    ">* Combining ML models with analytical and computational physics/chemistry has allowed a substantial extension in the range of accessible applications: accelerated statistical sampling, exact MLFFs (molecular force fields) for small molecules, accurate phase diagrams for unified FF, data-driven protein folding.\n",
    ">* The paper then goes on to describe certain similarities between ML methods used in cheminformatics with traditional approximate techniques existing to study quantum-mechanical systems in practice. In particular, they make the following assertion: $$\\overrightarrow{O}=\\langle\\Psi(\\overrightarrow{x})|\\widehat{O}|\\Psi(\\overrightarrow{x})\\rangle \\iff \\overrightarrow{O}=\\textbf{m}(\\overrightarrow{d})$$ where $\\widehat{O}$ is the quantum-mechanical operator; $\\Psi$ is the system wave function depending on all DOFs; $\\textbf{m}$ is the ML model, and $d$ is the descriptor to encode the DOFs.\n",
    ">* The paper goes on to discuss the use of multiple machine learning models to solve for potential energy surface (PES) of multiple compounds by using sGDML models (Symmetric Gradient Domain Machine Learning).\n",
    ">* Finally the paper does discuss some of the drawbacks of ML models and limitations to overcome (e.g. incorporating these physical laws into ML models). One in particular is the discussion regarding the long-distance equivalent framework. Might be unapplicable to our architecture."
   ]
  },
  {
   "cell_type": "markdown",
   "id": "cce9702a",
   "metadata": {},
   "source": [
    "## July 19\n",
    "\n",
    ">**Title:** Coarse-Grained Simulations of Model Polymer Nanofibres\n",
    ">\n",
    ">**Author(s):** Alberto Milani, Mosè Casalegno, Chiara Castiglioni, Guido Raos\n",
    ">\n",
    ">**Link:** [PDF Article](https://onlinelibrary.wiley.com/doi/epdf/10.1002/mats.201100010)\n",
    ">\n",
    ">**Important Points:**\n",
    ">* The researchers mainly wanted to perform molecular dynamics simulations of model polycaprolactam (polyamide-6 or nylon-6, also known as NY6).  \n",
    ">* In order to model this polymer, the researchers decided to use the MARTINI force field model with some small modifications:\n",
    ">    * They mapped 4-to-1 atoms to beads in an iterative way; assigning beads to polar or apolar spherical beads (no charged nor nonpolar). \n",
    ">    * For the intermolecular interactions, the adopted the Lennard-Jones interactions using the following formula to represent the non-bonded interactions between the CG beads: $$V_{n.b} = \\sum_{i<j}V_{ij}^{LJ} = \\sum_{i<j}[4\\epsilon_{ij}[(\\frac{r_{ij}}{\\sigma})^{12}-(\\frac{r_{ij}}{\\sigma})^6]-V_{cut}]$$ where $r_{ij}$ is the interparticle distance, $\\sigma$ is the LJ diameter (= 0.47nm), $\\epsilon_{ij}$ is the Lj well depths adjusted so as to reproduce a large set of experimental thermodynamic data, and $V_{cut}$ is a constant chosen so that the potential energy is continuous.\n",
    ">    * For the intramolecular interactions (i.e. bonded interactions), we have bond stretching and bond angle terms. These however, depend on *a priori* assignment of secondary structure motifs. For this reason, the researchers decided to generate their own stretching and bending potentials by Boltzmann inversion of an all-atom simulation of a short NY6 chain.  They did this using the Tinker 4.2 package and the OPLS-AA force field for a simluation. They obtained the potentials $$V_{stretch}(r) = -RTln[W_{stretch}(r)/r^2]+C$$ $$V_{bend}(θ) = -RTln[W_{bend}(θ)/sin(θ)]-V_{12}^{LJ}(2r_{eq}cosθ)+C'$$\n",
    ">* The entire simulation was performed using GROMACS 4 package.\n",
    ">* The results of the simulations were somewhat succesful due to limitations of the model itself.\n",
    "\n",
    ">**Title:** Structural investigation of semicrystalline polymers\n",
    ">\n",
    ">**Author(s):** J. Molnar, Z. Zuba, O. Sepsi, F. Ujhelyi, G. Erdei, S. Lenk, A. Menyhard\n",
    ">\n",
    ">**Link:** [PDF Article](https://www.sciencedirect.com/science/article/pii/S0142941821000489)\n",
    ">\n",
    ">**Important Points:**\n",
    ">* Some of the most frequently used polymers are semicrystalline materials, which always consist of amorphous and crystalline fractions. Their crystallinity can vary in the proportion of the molecule itself (e.g. from 10% to 80%; never reaching 100%). Their properties are dependent on thier crystalline structure.\n",
    ">* Sample preparation is important for semicrystalline materials. Some for polymers do not require some unique pre-treatment (OM, DF and POM) while others for larger magnifications require special pre-treatments.\n",
    ">* **Optical microscopic techniques:** \n",
    ">    * \n",
    ">    *\n",
    ">    *"
   ]
  },
  {
   "cell_type": "code",
   "execution_count": null,
   "id": "e13e0e00",
   "metadata": {},
   "outputs": [],
   "source": []
  }
 ],
 "metadata": {
  "kernelspec": {
   "display_name": "Python 3 (ipykernel)",
   "language": "python",
   "name": "python3"
  },
  "language_info": {
   "codemirror_mode": {
    "name": "ipython",
    "version": 3
   },
   "file_extension": ".py",
   "mimetype": "text/x-python",
   "name": "python",
   "nbconvert_exporter": "python",
   "pygments_lexer": "ipython3",
   "version": "3.9.12"
  }
 },
 "nbformat": 4,
 "nbformat_minor": 5
}
