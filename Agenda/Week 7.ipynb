{
 "cells": [
  {
   "cell_type": "markdown",
   "id": "2c8b217b",
   "metadata": {},
   "source": [
    "# Week 7"
   ]
  },
  {
   "cell_type": "markdown",
   "id": "c59bd3ad",
   "metadata": {},
   "source": [
    "## Objectives so far\n",
    "* Code a graph generator for Unity\n",
    "* Code force fields in Unity\n",
    "* Code Lennard-Jones forces for polymer chain entanglement\n",
    "* Code Brownian motion of polymer chains"
   ]
  },
  {
   "cell_type": "markdown",
   "id": "f75e83c2",
   "metadata": {},
   "source": [
    "## July 25\n",
    "\n",
    "Today I should be working on the implementation of force fields in Unity. Among the lots of things I found while figuring out how to do this, I came across this particular paper which could be extremely useful as it works with molecules containing glucose modules:\n",
    "\n",
    ">**Title:** Martini Coarse-Grained Force Field: Extension to Carbohydrates\n",
    ">\n",
    ">**Author(s):** Cesar A. López, Andrzej J. Rzepiela, Alex H. de Vries, Lubbert Dijkhuizen, Philippe H. Hünenberger, and Siewert J. Marrink\n",
    ">\n",
    ">**Link:** [PDF Article](https://pubs.acs.org/doi/pdf/10.1021/ct900313w)\n",
    ">\n",
    ">**Important Points:**\n",
    ">* They describe a couple of changes made to the original MARTINI 2.0 model for adapting it to carbohydrates.\n",
    ">* It is important to note how they describe the fact that the parametrization of the bonded and non-bonded interaction equations are largely dependent on the results of AA simulations (i.e. they draw a trajectory, and try to match the parameters so that we obtain values that are closer to those of the AA simulations).\n",
    "\n",
    "---\n",
    "\n",
    "### Force-Fields in Unity through CG models\n",
    "\n",
    "Right now I have a small plan for this. For the implementation of these Force Fields, I have considered the use of at least 4 scripts:\n",
    "\n",
    "* One for the characteristics of the Agent Bead (e.g. Apolar, donor and 4 in polarization scale)\n",
    "* Another one for the bonded potential functions; which must then be translated into physics\n",
    "* Another one for the non-bonded potential functions; which must then be translated into physics.\n",
    "* RL functionality\n",
    "\n",
    "Let's start with the CG characteristics of the Agent bead. The idea is to have two characteristics to each bead.\n",
    "```c#\n",
    "string beadType;        // Whether the bead is Charged (Q), Apolar (A), Polar (P), or Semipolar (N)\n",
    "string beadSubType;     // The level of polarity of each bead (it is from low 1 to high 5) \n",
    "                        // or whether the bead is a donor (d), acceptor (a), both (da), or none (0)\n",
    "```\n",
    "\n",
    "The idea in containing this information is to be able to make a dictionary in C# for the parameters of the non-bonded interactions (given by the Lennard-Jones equation):\n",
    "\n",
    "```c#\n",
    "public string determineIntLevel (Dictionary <string, string> beadOne, Dictionary <string, string> beadTwo) {\n",
    "    Dictionary<string[], \n",
    "}\n",
    "\n",
    "Dictionary<string, float> interactionLevels = new Dictionary<string, float>() {\n",
    "    {\"O\", 5.6}, {\"I\", 5}, {\"II\", 4.5}, {\"III\", 4}, {\"IV\", 3.5},\n",
    "    {\"V\", 3.1}, {\"VI\", 2.7}, {\"VII\", 2.3}, {\"VIII\", 2.0}, {\"IX\", 2.0}\n",
    "};\n",
    "\n",
    "// The ints are made so that the scale is in [ε] = kJ/mol\n",
    "```\n",
    "\n",
    "Let's suppose this bead data is contained in some file named `beadData.cs`. Then, we can write the script for the non-bonded interactions:\n",
    "\n",
    "```c#\n",
    "using System.Collections;\n",
    "using System.Collections.Generic;\n",
    "using UnityEngine;\n",
    "\n",
    "// Suppose that we have a list of all the nearby beads called neighbours.\n",
    "// Each Bead object neighbour will have the methods neighbor.types for an array [Type, SubType].\n",
    "// Assume that calling gameObject refers to the current Agent bead this script is attached to.\n",
    "// effectiveSize() would determine the value for sigma\n",
    "\n",
    "internal class nonBondedForces : MonoBehaviour {\n",
    "    Beads[] neighbours = ...;\n",
    "    \n",
    "    for (int i = 0; i < neighbours.Length; i++) {\n",
    "        Bead neighbour = neighbours[i];\n",
    "    \n",
    "        float epsilon = interactionLevels[determineIntLevel(gameObject.types, neighbor.types)];\n",
    "        float sigma = effectiveSize(gameObject.types, neighbor.types);\n",
    "        float distance = distance(\n",
    "    \n",
    "        U_LJ = 4 * epsilon * ((sigma/)-())\n",
    "    }\n",
    "}\n",
    "```"
   ]
  },
  {
   "cell_type": "markdown",
   "id": "07450c6c",
   "metadata": {},
   "source": [
    "## July 26"
   ]
  },
  {
   "cell_type": "markdown",
   "id": "9be4cd6f",
   "metadata": {},
   "source": [
    "## July27"
   ]
  }
 ],
 "metadata": {
  "kernelspec": {
   "display_name": "Python 3 (ipykernel)",
   "language": "python",
   "name": "python3"
  },
  "language_info": {
   "codemirror_mode": {
    "name": "ipython",
    "version": 3
   },
   "file_extension": ".py",
   "mimetype": "text/x-python",
   "name": "python",
   "nbconvert_exporter": "python",
   "pygments_lexer": "ipython3",
   "version": "3.9.12"
  }
 },
 "nbformat": 4,
 "nbformat_minor": 5
}
